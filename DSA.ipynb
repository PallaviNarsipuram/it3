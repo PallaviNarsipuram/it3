{
  "nbformat": 4,
  "nbformat_minor": 0,
  "metadata": {
    "colab": {
      "name": "DSA.ipynb",
      "provenance": [],
      "collapsed_sections": [],
      "include_colab_link": true
    },
    "kernelspec": {
      "name": "python3",
      "display_name": "Python 3"
    },
    "language_info": {
      "name": "python"
    }
  },
  "cells": [
    {
      "cell_type": "markdown",
      "metadata": {
        "id": "view-in-github",
        "colab_type": "text"
      },
      "source": [
        "<a href=\"https://colab.research.google.com/github/PallaviNarsipuram/it3/blob/main/DSA.ipynb\" target=\"_parent\"><img src=\"https://colab.research.google.com/assets/colab-badge.svg\" alt=\"Open In Colab\"/></a>"
      ]
    },
    {
      "cell_type": "code",
      "metadata": {
        "colab": {
          "base_uri": "https://localhost:8080/"
        },
        "id": "nbyE6akqwqEV",
        "outputId": "08e6dd52-470e-431e-807b-c7cdbeb3d4f3"
      },
      "source": [
        "avings = 100\n",
        "growth_multiplier = 1.1\n",
        "desc = \"compound interest\"\n",
        "\n",
        "# Assign product of growth_multiplier and savings to year1\n",
        "year1=savings*growth_multiplier\n",
        "\n",
        "# Print the type of year1\n",
        "print(type(year1))\n",
        "\n",
        "# Assign sum of desc and desc to doubledesc\n",
        "doubledesc=desc+desc\n",
        "\n",
        "# Print out doubledesc\n",
        "print(doubledesc)\n"
      ],
      "execution_count": null,
      "outputs": [
        {
          "output_type": "stream",
          "text": [
            "<class 'float'>\n",
            "compound interestcompound interest\n"
          ],
          "name": "stdout"
        }
      ]
    },
    {
      "cell_type": "code",
      "metadata": {
        "colab": {
          "base_uri": "https://localhost:8080/"
        },
        "id": "u9epXxn7tkHK",
        "outputId": "bf329e3f-682d-4634-a6f7-3501aa2cbc8d"
      },
      "source": [
        "#work with Lists.\n",
        "A=[1,2,\"fro\",\"to\",45]\n",
        "\n",
        "print(A)      #printing list\n",
        "\n",
        "#adding an element\n",
        "A.append(5)\n",
        "\n",
        "print(A)      #printing list\n",
        "\n",
        "#insert an elemnt at definite index\n",
        "A.insert(4,2)\n",
        "\n",
        "print(A)       #printing list\n",
        "\n",
        "#counting how many time elemnt occured\n",
        "print(A.count(5))"
      ],
      "execution_count": null,
      "outputs": [
        {
          "output_type": "stream",
          "text": [
            "[1, 2, 'fro', 'to', 45]\n",
            "[1, 2, 'fro', 'to', 45, 5]\n",
            "[1, 2, 'fro', 'to', 2, 45, 5]\n",
            "1\n"
          ],
          "name": "stdout"
        }
      ]
    },
    {
      "cell_type": "code",
      "metadata": {
        "colab": {
          "base_uri": "https://localhost:8080/"
        },
        "id": "g8-ilBbq0fwN",
        "outputId": "a586c27f-c4e8-4d6c-bdc8-fedabc17e631"
      },
      "source": [
        "def my_function(fname):\n",
        "  print(fname + \"  CBIT \")\n",
        "my_function(\"kartikeya\")\n",
        "my_function(\"davanapally\")\n",
        "my_function(\"153\")"
      ],
      "execution_count": null,
      "outputs": [
        {
          "output_type": "stream",
          "text": [
            "kartikeya  CBIT \n",
            "davanapally  CBIT \n",
            "153  CBIT \n"
          ],
          "name": "stdout"
        }
      ]
    },
    {
      "cell_type": "code",
      "metadata": {
        "colab": {
          "base_uri": "https://localhost:8080/"
        },
        "id": "2lizXKy8xCub",
        "outputId": "2c160fa9-f024-4a4d-e863-f47126e4d5e3"
      },
      "source": [
        "#factorial using recursion\n",
        "def factorial(n):\n",
        "\t\n",
        "\t# single line to find factorial\n",
        "\treturn 1 if (n==1 or n==0) else n * factorial(n - 1)\n",
        "# Driver Code\n",
        "num = 4\n",
        "print(\"Factorial of\",num,\"is\",factorial(num))"
      ],
      "execution_count": null,
      "outputs": [
        {
          "output_type": "stream",
          "name": "stdout",
          "text": [
            "Factorial of 4 is 24\n"
          ]
        }
      ]
    },
    {
      "cell_type": "code",
      "metadata": {
        "colab": {
          "base_uri": "https://localhost:8080/"
        },
        "id": "znj38qhYyepD",
        "outputId": "3e7ca6c0-ac23-42c4-960e-76582552e426"
      },
      "source": [
        "#using function\n",
        "def factorial(n):\n",
        "\tif n < 0:\n",
        "\t\treturn 0\n",
        "\telif n == 0 or n == 1:\n",
        "\t\treturn 1\n",
        "\telse:\n",
        "\t\tfact = 1\n",
        "\t\twhile(n > 1):\n",
        "\t\t\tfact *= n\n",
        "\t\t\tn -= 1\n",
        "\t\treturn fact\n",
        "\n",
        "# Driver Code\n",
        "num = int(input(\"enter a num\"))\n",
        "print(\"Factorial of\",num,\"is\",factorial(num))"
      ],
      "execution_count": null,
      "outputs": [
        {
          "output_type": "stream",
          "text": [
            "enter a num4\n",
            "Factorial of 4 is 24\n"
          ],
          "name": "stdout"
        }
      ]
    },
    {
      "cell_type": "code",
      "metadata": {
        "colab": {
          "base_uri": "https://localhost:8080/"
        },
        "id": "LowkSylPyjoi",
        "outputId": "c54f6f18-ab45-4216-ecd0-90fb947d441c"
      },
      "source": [
        "# factorial of given number iteratively\n",
        "def factorial(n):\n",
        "\tif n < 0:\n",
        "\t\treturn 0\n",
        "\telif n == 0 or n == 1:\n",
        "\t\treturn 1\n",
        "\telse:\n",
        "\t\tfact = 1\n",
        "\t\twhile(n > 1):\n",
        "\t\t\tfact *= n\n",
        "\t\t\tn -= 1\n",
        "\t\treturn fact\n",
        "\n",
        "# Driver Code\n",
        "num = int(input(\"enter a num\"))\n",
        "print(\"Factorial of\",num,\"is\",\n",
        "factorial(num))"
      ],
      "execution_count": 1,
      "outputs": [
        {
          "output_type": "stream",
          "name": "stdout",
          "text": [
            "enter a num5\n",
            "Factorial of 5 is 120\n"
          ]
        }
      ]
    },
    {
      "cell_type": "code",
      "metadata": {
        "colab": {
          "base_uri": "https://localhost:8080/"
        },
        "id": "hS2U9GASy_36",
        "outputId": "acbef243-bcec-444c-b5b0-771215f6d651"
      },
      "source": [
        "# Selection sort\n",
        "import sys\n",
        "A = [21, 29, 4, 27, 9]\n",
        "\n",
        "for i in range(len(A)):\n",
        "\t\n",
        "\tmin_idx = i\n",
        "\tfor j in range(i+1, len(A)):\n",
        "\t\tif A[min_idx] > A[j]:\n",
        "\t\t\tmin_idx = j\n",
        "\t\t\t\n",
        "\t# Swap the found minimum element with\n",
        "\t# the first element\t\t\n",
        "\tA[i], A[min_idx] = A[min_idx], A[i]\n",
        "\n",
        "print (\"Sorted array\")\n",
        "for i in range(len(A)):\n",
        "\tprint(\"%d\" %A[i],end=\" \"),"
      ],
      "execution_count": null,
      "outputs": [
        {
          "output_type": "stream",
          "text": [
            "Sorted array\n",
            "4 9 21 27 29 "
          ],
          "name": "stdout"
        }
      ]
    },
    {
      "cell_type": "code",
      "metadata": {
        "colab": {
          "base_uri": "https://localhost:8080/"
        },
        "id": "roB9y5e4zI4E",
        "outputId": "637fee5b-f519-4599-a2ba-5d253cf7bce7"
      },
      "source": [
        "#selection sort(Iterative method)\n",
        "def selection_sort(a):\n",
        "  for i in range(len(a)):\n",
        "    min=i\n",
        "    for j in range(i+1,len(a)):\n",
        "      if a[min]>a[j]:\n",
        "        min=j\n",
        "    a[i],a[min]=a[min],a[i]\n",
        "  return a\n",
        "a=[21, 29, 4, 27, 9, 8]\n",
        "print('Before Sorting:{}'.format(a))\n",
        "print('After Sorting:{}'.format(selection_sort(a)))"
      ],
      "execution_count": 2,
      "outputs": [
        {
          "output_type": "stream",
          "name": "stdout",
          "text": [
            "Before Sorting:[21, 29, 4, 27, 9, 8]\n",
            "After Sorting:[4, 8, 9, 21, 27, 29]\n"
          ]
        }
      ]
    },
    {
      "cell_type": "code",
      "metadata": {
        "colab": {
          "base_uri": "https://localhost:8080/"
        },
        "id": "1_GV-nVMzL_J",
        "outputId": "1483666a-96c6-4120-b170-f4c0e9b9ac5e"
      },
      "source": [
        "#insertion sort\n",
        "def insertion_sort(a):\n",
        "  for i in range(1,len(a)):\n",
        "    key=a[i]\n",
        "    while a[i-1]>key and i>0:\n",
        "      a[i],a[i-1]=a[i-1],a[i]\n",
        "      i-=1\n",
        "  return a\n",
        "a=[21, 29, 4, 27, 9, 8]\n",
        "print('Before Sorting:{}'.format(a))\n",
        "print('After Sorting:{}'.format(insertion_sort(a)))"
      ],
      "execution_count": null,
      "outputs": [
        {
          "output_type": "stream",
          "text": [
            "Before Sorting:[21, 29, 4, 27, 9, 8]\n",
            "After Sorting:[4, 8, 9, 21, 27, 29]\n"
          ],
          "name": "stdout"
        }
      ]
    },
    {
      "cell_type": "code",
      "metadata": {
        "colab": {
          "base_uri": "https://localhost:8080/"
        },
        "id": "VLA8mhsdzPuq",
        "outputId": "36bb8442-dfd0-4a09-980e-6ca3e165d682"
      },
      "source": [
        "#merge sort\n",
        "def merge_sort(a):\n",
        "  if len(a)>1:\n",
        "    mid=len(a)//2\n",
        "    left=a[:mid]\n",
        "    right=a[mid:]\n",
        "    merge_sort(left)\n",
        "    merge_sort(right)\n",
        "    i=0\n",
        "    j=0\n",
        "    k=0\n",
        "    while i<len(left) and j<len(right):\n",
        "      if left[i]<right[j]:\n",
        "        a[k]=left[i]\n",
        "        i+=1\n",
        "      else:\n",
        "        a[k]=right[j]\n",
        "        j+=1\n",
        "      k+=1\n",
        "    while i<len(left):\n",
        "      a[k]=left[i]\n",
        "      i+=1\n",
        "      k+=1\n",
        "    while j<len(right):\n",
        "      a[k]=right[j]\n",
        "      j+=1\n",
        "      k+=1\n",
        "  return a\n",
        "a=[38,81,22,48,13,69,93,14,45,58,79,72]\n",
        "print('Before Sorting:{}'.format(a))\n",
        "print('After Sorting:{}'.format(merge_sort(a)))"
      ],
      "execution_count": null,
      "outputs": [
        {
          "output_type": "stream",
          "text": [
            "Before Sorting:[38, 81, 22, 48, 13, 69, 93, 14, 45, 58, 79, 72]\n",
            "After Sorting:[13, 14, 22, 38, 45, 48, 58, 69, 72, 79, 81, 93]\n"
          ],
          "name": "stdout"
        }
      ]
    },
    {
      "cell_type": "code",
      "metadata": {
        "colab": {
          "base_uri": "https://localhost:8080/"
        },
        "id": "kzmaHwXo-u9X",
        "outputId": "59cc3bf2-d77f-4725-f0ed-62bbe01248d9"
      },
      "source": [
        "#quick sort\n",
        "def quick_sort(a):\n",
        "  if len(a)<=1:\n",
        "    return a\n",
        "  else:\n",
        "    pivot=a.pop()         #pops out the last element in an array\n",
        "  right_side=[]\n",
        "  left_side=[]\n",
        "  for i in range(0,len(a)):\n",
        "    if a[i]>pivot:\n",
        "      right_side.append(a[i])\n",
        "    else:\n",
        "      left_side.append(a[i])\n",
        "  return quick_sort(left_side)+[pivot]+quick_sort(right_side)\n",
        "a=[21, 29, 4, 27, 9, 8,10]\n",
        "print(f'Before Sorting:{a}')\n",
        "print(f'After Sorting:{quick_sort(a)}')"
      ],
      "execution_count": null,
      "outputs": [
        {
          "output_type": "stream",
          "text": [
            "Before Sorting:[21, 29, 4, 27, 9, 8, 10]\n",
            "After Sorting:[4, 8, 9, 10, 21, 27, 29]\n"
          ],
          "name": "stdout"
        }
      ]
    },
    {
      "cell_type": "code",
      "metadata": {
        "colab": {
          "base_uri": "https://localhost:8080/"
        },
        "id": "FO2eCMOuzbPX",
        "outputId": "6383b810-f34d-4e90-b23a-ce4ebedf9d37"
      },
      "source": [
        "#perform ordered linear search.\n",
        "def linearsearch(arr, x):\n",
        "   for i in range(len(arr)):\n",
        "      if arr[i] == x:\n",
        "         return i\n",
        "   return -1\n",
        "arr = ['d','a','t','a','s','t','r','u','c','t','u','r','e']\n",
        "x = 't'\n",
        "print(\"element found at index \"+str(linearsearch(arr,x)))"
      ],
      "execution_count": null,
      "outputs": [
        {
          "output_type": "stream",
          "text": [
            "element found at index 2\n"
          ],
          "name": "stdout"
        }
      ]
    },
    {
      "cell_type": "code",
      "metadata": {
        "colab": {
          "base_uri": "https://localhost:8080/"
        },
        "id": "MupI6wdozoFj",
        "outputId": "4e85f3ab-b5d5-49d9-9132-7f8e987d0a7d"
      },
      "source": [
        "#unordered linear search\n",
        "\n",
        "def search(arr, n, x):\n",
        " \n",
        "    for i in range(0, n):\n",
        "        if (arr[i] == x):\n",
        "            return i\n",
        "    return -1\n",
        " \n",
        " \n",
        "\n",
        "arr = [50, 29, 4, 9, 10]\n",
        "x = 29\n",
        "n = len(arr)\n",
        " \n",
        "# Function call\n",
        "result = search(arr, n, x)\n",
        "if(result == -1):\n",
        "    print(\"Element is not present in array\")\n",
        "else:\n",
        "    print(\"Element is present at index\", result)"
      ],
      "execution_count": null,
      "outputs": [
        {
          "output_type": "stream",
          "text": [
            "Element is present at index 1\n"
          ],
          "name": "stdout"
        }
      ]
    },
    {
      "cell_type": "code",
      "metadata": {
        "colab": {
          "base_uri": "https://localhost:8080/"
        },
        "id": "1PKtzDF-1SjE",
        "outputId": "9fbf5d1e-fe33-471e-bfa8-bac861f56264"
      },
      "source": [
        "# Iterative Binary Search Function\n",
        "# It returns index of x in given array arr if present,\n",
        "# else returns -1\n",
        "def binary_search(arr, x):\n",
        "\tlow = 0\n",
        "\thigh = len(arr) - 1\n",
        "\tmid = 0\n",
        "\n",
        "\twhile low <= high:\n",
        "\n",
        "\t\tmid = (high + low) // 2\n",
        "\n",
        "\t\t# If x is greater, ignore left half\n",
        "\t\tif arr[mid] < x:\n",
        "\t\t\tlow = mid + 1\n",
        "\n",
        "\t\t# If x is smaller, ignore right half\n",
        "\t\telif arr[mid] > x:\n",
        "\t\t\thigh = mid - 1\n",
        "\n",
        "\t\t# means x is present at mid\n",
        "\t\telse:\n",
        "\t\t\treturn mid\n",
        "\n",
        "\t# If we reach here, then the element was not present\n",
        "\treturn -1\n",
        "\n",
        "\n",
        "# Test array\n",
        "arr = [ 4, 10, 21, 27, 29]\n",
        "x = 10\n",
        "\n",
        "# Function call\n",
        "result = binary_search(arr, x)\n",
        "\n",
        "if result != -1:\n",
        "\tprint(\"Element is present at index\", str(result))\n",
        "else:\n",
        "\tprint(\"Element is not present in array\")"
      ],
      "execution_count": null,
      "outputs": [
        {
          "output_type": "stream",
          "text": [
            "Element is present at index 1\n"
          ],
          "name": "stdout"
        }
      ]
    },
    {
      "cell_type": "code",
      "metadata": {
        "colab": {
          "base_uri": "https://localhost:8080/"
        },
        "id": "q6xCTU_B-B6e",
        "outputId": "526c54bb-fc77-4ece-d8ee-4ec19316cd51"
      },
      "source": [
        "# recursive binary search.\n",
        "# Modifications needed for the older Python 2 are found in comments.\n",
        "\n",
        "# Returns index of x in arr if present, else -1\n",
        "def binary_search(arr, low, high, x):\n",
        "\n",
        "\t# Check base case\n",
        "\tif high >= low:\n",
        "\n",
        "\t\tmid = (high + low) // 2\n",
        "\n",
        "\t\t# If element is present at the middle itself\n",
        "\t\tif arr[mid] == x:\n",
        "\t\t\treturn mid\n",
        "\n",
        "\t\t# If element is smaller than mid, then it can only\n",
        "\t\t# be present in left subarray\n",
        "\t\telif arr[mid] > x:\n",
        "\t\t\treturn binary_search(arr, low, mid - 1, x)\n",
        "\n",
        "\t\t# Else the element can only be present in right subarray\n",
        "\t\telse:\n",
        "\t\t\treturn binary_search(arr, mid + 1, high, x)\n",
        "\n",
        "\telse:\n",
        "\t\t# Element is not present in the array\n",
        "\t\treturn -1\n",
        "\n",
        "# Test array\n",
        "arr = [ 2, 3, 4, 10, 40 ]\n",
        "x = int(input(\" enter a num to search\"))\n",
        "\n",
        "# Function call\n",
        "result = binary_search(arr, 0, len(arr)-1, x)\n",
        "\n",
        "if result != -1:\n",
        "\tprint(\"element found \",\"Element is present at index\", str(result))\n",
        "else:\n",
        "\tprint(\"Element is not present in array\")"
      ],
      "execution_count": null,
      "outputs": [
        {
          "output_type": "stream",
          "text": [
            " enter a num to search4\n",
            "element found  Element is present at index 2\n"
          ],
          "name": "stdout"
        }
      ]
    },
    {
      "cell_type": "code",
      "metadata": {
        "colab": {
          "base_uri": "https://localhost:8080/"
        },
        "id": "j9w096kf6HmO",
        "outputId": "fa0b1185-5202-4433-9a73-37486c8bf074"
      },
      "source": [
        "# Linked list operations in Python\n",
        "\n",
        "\n",
        "# Create a node\n",
        "class Node:\n",
        "    def __init__(self, item):\n",
        "        self.item = item\n",
        "        self.next = None\n",
        "\n",
        "\n",
        "class LinkedList:\n",
        "\n",
        "    def __init__(self):\n",
        "        self.head = None\n",
        "\n",
        "    # Insert at the beginning\n",
        "    def insertAtBeginning(self, data):\n",
        "        new_node = Node(data)\n",
        "\n",
        "        new_node.next = self.head\n",
        "        self.head = new_node\n",
        "\n",
        "    # Insert after a node\n",
        "    def insertAfter(self, node, data):\n",
        "\n",
        "        if node is None:\n",
        "            print(\"The given previous node must inLinkedList.\")\n",
        "            return\n",
        "\n",
        "        new_node = Node(data)\n",
        "        new_node.next = node.next\n",
        "        node.next = new_node\n",
        "\n",
        "    # Insert at the end\n",
        "    def insertAtEnd(self, data):\n",
        "        new_node = Node(data)\n",
        "\n",
        "        if self.head is None:\n",
        "            self.head = new_node\n",
        "            return\n",
        "\n",
        "        last = self.head\n",
        "        while (last.next):\n",
        "            last = last.next\n",
        "\n",
        "        last.next = new_node\n",
        "\n",
        "    # Deleting a node\n",
        "    def deleteNode(self, position):\n",
        "\n",
        "        if self.head == None:\n",
        "            return\n",
        "\n",
        "        temp_node = self.head\n",
        "\n",
        "        if position == 0:\n",
        "            self.head = temp_node.next\n",
        "            temp_node = None\n",
        "            return\n",
        "\n",
        "        # Find the key to be deleted\n",
        "        for i in range(position - 1):\n",
        "            temp_node = temp_node.next\n",
        "            if temp_node is None:\n",
        "                break\n",
        "\n",
        "        # If the key is not present\n",
        "        if temp_node is None:\n",
        "            return\n",
        "\n",
        "        if temp_node.next is None:\n",
        "            return\n",
        "\n",
        "        next = temp_node.next.next\n",
        "        temp_node.next = None\n",
        "        temp_node.next = next\n",
        "\n",
        "    def printList(self):\n",
        "        temp_node = self.head\n",
        "        while (temp_node):\n",
        "            print(str(temp_node.item) + \" \", end=\"\")\n",
        "            temp_node = temp_node.next\n",
        "\n",
        "\n",
        "if __name__ == '__main__':\n",
        "\n",
        "    llist = LinkedList()\n",
        "    llist.insertAtEnd(1)\n",
        "    llist.insertAtBeginning(2)\n",
        "    llist.insertAtBeginning(3)\n",
        "    llist.insertAtEnd(4)\n",
        "    llist.insertAfter(llist.head.next, 5)\n",
        "\n",
        "    print('Linked list:')\n",
        "    llist.printList()\n",
        "\n",
        "    print(\"\\nAfter deleting an element:\")\n",
        "    llist.deleteNode(3)\n",
        "    llist.printList()"
      ],
      "execution_count": null,
      "outputs": [
        {
          "output_type": "stream",
          "text": [
            "Linked list:\n",
            "3 2 5 1 4 \n",
            "After deleting an element:\n",
            "3 2 5 4 "
          ],
          "name": "stdout"
        }
      ]
    },
    {
      "cell_type": "code",
      "metadata": {
        "colab": {
          "base_uri": "https://localhost:8080/"
        },
        "id": "mW_vqQcC59W9",
        "outputId": "04e2bc84-8ade-44fc-cb91-835fba4676c6"
      },
      "source": [
        "#Represent a node of doubly linked list    \n",
        "class Node:    \n",
        "    def __init__(self,data):    \n",
        "        self.data = data;    \n",
        "        self.previous = None;    \n",
        "        self.next = None;    \n",
        "            \n",
        "class DoublyLinkedList:    \n",
        "    #Represent the head and tail of the doubly linked list    \n",
        "    def __init__(self):    \n",
        "        self.head = None;    \n",
        "        self.tail = None;    \n",
        "            \n",
        "    #addNode() will add a node to the list    \n",
        "    def addNode(self, data):    \n",
        "        #Create a new node    \n",
        "        newNode = Node(data);    \n",
        "            \n",
        "        #If list is empty    \n",
        "        if(self.head == None):    \n",
        "            #Both head and tail will point to newNode    \n",
        "            self.head = self.tail = newNode;    \n",
        "            #head's previous will point to None    \n",
        "            self.head.previous = None;    \n",
        "            #tail's next will point to None, as it is the last node of the list    \n",
        "            self.tail.next = None;    \n",
        "        else:    \n",
        "            #newNode will be added after tail such that tail's next will point to newNode    \n",
        "            self.tail.next = newNode;    \n",
        "            #newNode's previous will point to tail    \n",
        "            newNode.previous = self.tail;    \n",
        "            #newNode will become new tail    \n",
        "            self.tail = newNode;    \n",
        "            #As it is last node, tail's next will point to None    \n",
        "            self.tail.next = None;    \n",
        "                \n",
        "    #display() will print out the nodes of the list    \n",
        "    def display(self):    \n",
        "        #Node current will point to head    \n",
        "        current = self.head;    \n",
        "        if(self.head == None):    \n",
        "            print(\"List is empty\");    \n",
        "            return;    \n",
        "        print(\"Nodes of doubly linked list: \");    \n",
        "        while(current != None):     \n",
        "            #Prints each node by incrementing pointer.    \n",
        "            print(current.data),;    \n",
        "            current = current.next;    \n",
        "                \n",
        "dList = DoublyLinkedList();    \n",
        "#Add nodes to the list    \n",
        "dList.addNode(1);    \n",
        "dList.addNode(2);    \n",
        "dList.addNode(3);    \n",
        "dList.addNode(4);    \n",
        "dList.addNode(5);    \n",
        "     \n",
        "#Displays the nodes present in the list    \n",
        "dList.display();  "
      ],
      "execution_count": null,
      "outputs": [
        {
          "output_type": "stream",
          "text": [
            "Nodes of doubly linked list: \n",
            "1\n",
            "2\n",
            "3\n",
            "4\n",
            "5\n"
          ],
          "name": "stdout"
        }
      ]
    },
    {
      "cell_type": "code",
      "metadata": {
        "id": "BGMn1aprHiHP",
        "colab": {
          "base_uri": "https://localhost:8080/"
        },
        "outputId": "27793d7d-ec6c-434c-e089-a5898e906a37"
      },
      "source": [
        "# circular linked list\n",
        "\n",
        "class Node():\n",
        "  def __init__(self,data=None,nxt=None):\n",
        "    self.data = data\n",
        "    self.nxt = self\n",
        "\n",
        "class CircularLinkedList():\n",
        "  def __init__(self,node=None):\n",
        "    self.head = node\n",
        "\n",
        "  def len(self):\n",
        "    current = self.head\n",
        "    if current!=None:\n",
        "      current = self.head\n",
        "      count=1\n",
        "      while current.nxt:\n",
        "        count+=1\n",
        "      return count\n",
        "    else:\n",
        "      return 0\n",
        "\n",
        "  def disp(self):\n",
        "    current = self.head\n",
        "    if current == None:\n",
        "      return None\n",
        "    else:\n",
        "      print(current.data,end=\" \")\n",
        "      current = current.nxt\n",
        "      while current!=self.head:\n",
        "        print(current.nxt.data)\n",
        "        current = current.nxt\n",
        "      print()\n",
        "\n",
        "  def insert_beginning(self,data):\n",
        "    print(\"Inserting\",data,\"at beginning of the list\")\n",
        "    newnode = Node()\n",
        "    newnode.data = data\n",
        "    current = self.head\n",
        "    if self.len() > 0:\n",
        "      while current.nxt!=self.head:\n",
        "        current = current.nxt\n",
        "      current.nxt = newnode\n",
        "      self.head = newnode\n",
        "      self.disp()\n",
        "    else:\n",
        "      newnode = self.head\n",
        "      self.disp()\n",
        "\n",
        "  def insert_end(self,data):\n",
        "    if self.len()==0:\n",
        "      self.insert_beginning()\n",
        "    else:\n",
        "      newnode = Node()\n",
        "      newnode.data = data\n",
        "      current = self.head\n",
        "      while current.nxt!=self.head:\n",
        "        current = current.nxt\n",
        "      current.nxt = newnode\n",
        "      self.head = newnode\n",
        "\n",
        "\n",
        "\n",
        "cll = CircularLinkedList()\n",
        "cll.insert_beginning(9876)\n",
        "cll.disp()"
      ],
      "execution_count": null,
      "outputs": [
        {
          "output_type": "stream",
          "text": [
            "Inserting 9876 at beginning of the list\n"
          ],
          "name": "stdout"
        }
      ]
    },
    {
      "cell_type": "code",
      "metadata": {
        "id": "iBeLqgL_DiQZ"
      },
      "source": [
        "class CLL:\n",
        "    def __init__(self):\n",
        "        self.head = None\n",
        "        self.count = 0\n",
        "    \n",
        "    def _repr_(self):\n",
        "        string = \"\"\n",
        "         \n",
        "        if(self.head == None):\n",
        "            string += \"Circular Linked List Empty\"\n",
        "            return string\n",
        "         \n",
        "        string += f\"Circular Linked List:\\n{self.head.data}\"       \n",
        "        temp = self.head.next\n",
        "        while(temp != self.head):\n",
        "            string += f\" -> {temp.data}\"\n",
        "            temp = temp.next\n",
        "        return string\n",
        "    \n",
        "    def append(self, data):\n",
        "        self.insert(data, self.count)\n",
        "        return\n",
        "    \n",
        "    def insert(self, data, index):\n",
        "        if (index > self.count) | (index < 0):\n",
        "            raise ValueError(f\"Index out of range: {index}, size: {self.count}\")\n",
        "            \n",
        "        if self.head == None:\n",
        "            self.head = Node(data)\n",
        "            self.count += 1\n",
        "            return\n",
        "        \n",
        "        temp = self.head\n",
        "        for _ in range(self.count - 1 if index - 1 == -1 else index - 1):\n",
        "            temp = temp.next\n",
        "            \n",
        "        aftertemp = temp.next #New node goes between temp and aftertemp\n",
        "        temp.next = Node(data)\n",
        "        temp.next.next = aftertemp\n",
        "        if(index == 0):\n",
        "            self.head = temp.next\n",
        "        self.count += 1\n",
        "        return\n",
        "    \n",
        "    def remove(self, index):\n",
        "        if (index >= self.count) | (index < 0):\n",
        "            raise ValueError(f\"Index out of range: {index}, size: {self.count}\")\n",
        "        \n",
        "        if self.count == 1:\n",
        "            self.head = None\n",
        "            self.count = 0\n",
        "            return\n",
        "        \n",
        "        before = self.head\n",
        "        for _ in range(self.count - 1 if index - 1 == -1 else index - 1):\n",
        "            before = before.next\n",
        "        after = before.next.next\n",
        "        \n",
        "        before.next = after\n",
        "        if(index == 0):\n",
        "            self.head = after\n",
        "        self.count -= 1\n",
        "        return\n",
        "    \n",
        "    def index(self, data):\n",
        "        temp = self.head\n",
        "        for i in range(self.count):\n",
        "            if(temp.data == data):\n",
        "                return i\n",
        "            temp = temp.next\n",
        "        return None\n",
        "    \n",
        "    def size(self):\n",
        "        return self.count\n",
        "    \n",
        "    def display(self):\n",
        "        print(self)"
      ],
      "execution_count": null,
      "outputs": []
    },
    {
      "cell_type": "code",
      "metadata": {
        "id": "PZ2XhWhXZsDH",
        "colab": {
          "base_uri": "https://localhost:8080/",
          "height": 229
        },
        "outputId": "43a91d9f-92b5-4cd1-dea1-033a65ab6904"
      },
      "source": [
        "def PrintReverseOrder(N):\n",
        "     \n",
        "    for i in range(N, 0, -2):\n",
        "        print(i, end = \" \");\n",
        " \n",
        "# Driver code\n",
        "if _name_ == '_main_':\n",
        "     \n",
        "    N = 5;\n",
        "    PrintReverseOrder(N);"
      ],
      "execution_count": null,
      "outputs": [
        {
          "output_type": "error",
          "ename": "NameError",
          "evalue": "ignored",
          "traceback": [
            "\u001b[0;31m---------------------------------------------------------------------------\u001b[0m",
            "\u001b[0;31mNameError\u001b[0m                                 Traceback (most recent call last)",
            "\u001b[0;32m<ipython-input-2-d4ad32baf5d0>\u001b[0m in \u001b[0;36m<module>\u001b[0;34m()\u001b[0m\n\u001b[1;32m      5\u001b[0m \u001b[0;34m\u001b[0m\u001b[0m\n\u001b[1;32m      6\u001b[0m \u001b[0;31m# Driver code\u001b[0m\u001b[0;34m\u001b[0m\u001b[0;34m\u001b[0m\u001b[0;34m\u001b[0m\u001b[0m\n\u001b[0;32m----> 7\u001b[0;31m \u001b[0;32mif\u001b[0m \u001b[0m_name_\u001b[0m \u001b[0;34m==\u001b[0m \u001b[0;34m'_main_'\u001b[0m\u001b[0;34m:\u001b[0m\u001b[0;34m\u001b[0m\u001b[0;34m\u001b[0m\u001b[0m\n\u001b[0m\u001b[1;32m      8\u001b[0m \u001b[0;34m\u001b[0m\u001b[0m\n\u001b[1;32m      9\u001b[0m     \u001b[0mN\u001b[0m \u001b[0;34m=\u001b[0m \u001b[0;36m5\u001b[0m\u001b[0;34m;\u001b[0m\u001b[0;34m\u001b[0m\u001b[0;34m\u001b[0m\u001b[0m\n",
            "\u001b[0;31mNameError\u001b[0m: name '_name_' is not defined"
          ]
        }
      ]
    },
    {
      "cell_type": "code",
      "metadata": {
        "colab": {
          "base_uri": "https://localhost:8080/"
        },
        "id": "SBvNDMXOFAhU",
        "outputId": "de95ba79-ea57-495a-d97f-68475478ceec"
      },
      "source": [
        "def countingSort(inputArray):\n",
        "    # Find the maximum element in the inputArray\n",
        "    maxEl = max(inputArray)\n",
        "\n",
        "    countArrayLength = maxEl+1\n",
        "\n",
        "    # Initialize the countArray with (max+1) zeros\n",
        "    countArray = [0] * countArrayLength\n",
        "\n",
        "    # Step 1 -> Traverse the inputArray and increase \n",
        "    # the corresponding count for every element by 1\n",
        "    for el in inputArray: \n",
        "        countArray[el] += 1\n",
        "\n",
        "    # Step 2 -> For each element in the countArray, \n",
        "    # sum up its value with the value of the previous \n",
        "    # element, and then store that value \n",
        "    # as the value of the current element\n",
        "    for i in range(1, countArrayLength):\n",
        "        countArray[i] += countArray[i-1] \n",
        "\n",
        "    # Step 3 -> Calculate element position\n",
        "    # based on the countArray values\n",
        "    outputArray = [0] * len(inputArray)\n",
        "    i = len(inputArray) - 1\n",
        "    while i >= 0:\n",
        "        currentEl = inputArray[i]\n",
        "        countArray[currentEl] -= 1\n",
        "        newPosition = countArray[currentEl]\n",
        "        outputArray[newPosition] = currentEl\n",
        "        i -= 1\n",
        "\n",
        "    return outputArray\n",
        "\n",
        "inputArray = [4,9,1,29,21,4,9,10]\n",
        "print(\"Input array = \", inputArray)\n",
        "\n",
        "sortedArray = countingSort(inputArray)\n",
        "print(\"Counting sort result = \", sortedArray)"
      ],
      "execution_count": null,
      "outputs": [
        {
          "output_type": "stream",
          "text": [
            "Input array =  [4, 9, 1, 29, 21, 4, 9, 10]\n",
            "Counting sort result =  [1, 4, 4, 9, 9, 10, 21, 29]\n"
          ],
          "name": "stdout"
        }
      ]
    },
    {
      "cell_type": "code",
      "metadata": {
        "colab": {
          "base_uri": "https://localhost:8080/"
        },
        "id": "0wux0oRGFC5R",
        "outputId": "77185fc3-53e5-4555-831b-3f25676d5753"
      },
      "source": [
        "def countingSortForRadix(inputArray, placeValue):\n",
        "    # We can assume that the number of digits used to represent\n",
        "    # all numbers on the placeValue position is not grater than 10\n",
        "    countArray = [0] * 10\n",
        "    inputSize = len(inputArray)\n",
        "\n",
        "    # placeElement is the value of the current place value\n",
        "    # of the current element, e.g. if the current element is\n",
        "    # 123, and the place value is 10, the placeElement is\n",
        "    # equal to 2\n",
        "    for i in range(inputSize): \n",
        "        placeElement = (inputArray[i] // placeValue) % 10\n",
        "        countArray[placeElement] += 1\n",
        "\n",
        "    for i in range(1, 10):\n",
        "        countArray[i] += countArray[i-1]\n",
        "\n",
        "    # Reconstructing the output array\n",
        "    outputArray = [0] * inputSize\n",
        "    i = inputSize - 1\n",
        "    while i >= 0:\n",
        "        currentEl = inputArray[i]\n",
        "        placeElement = (inputArray[i] // placeValue) % 10\n",
        "        countArray[placeElement] -= 1\n",
        "        newPosition = countArray[placeElement]\n",
        "        outputArray[newPosition] = currentEl\n",
        "        i -= 1\n",
        "        \n",
        "    return outputArray\n",
        "\n",
        "def radixSort(inputArray):\n",
        "    # Step 1 -> Find the maximum element in the input array\n",
        "    maxEl = max(inputArray)\n",
        "\n",
        "    # Step 2 -> Find the number of digits in the `max` element\n",
        "    D = 1\n",
        "    while maxEl > 0:\n",
        "        maxEl /= 10\n",
        "        D += 1\n",
        "    \n",
        "    # Step 3 -> Initialize the place value to the least significant place\n",
        "    placeVal = 1\n",
        "\n",
        "    # Step 4\n",
        "    outputArray = inputArray\n",
        "    while D > 0:\n",
        "        outputArray = countingSortForRadix(outputArray, placeVal)\n",
        "        placeVal *= 10  \n",
        "        D -= 1\n",
        "\n",
        "    return outputArray\n",
        "    \n",
        "input = [153,29,4,10,27,189]\n",
        "print(input)\n",
        "sorted = radixSort(input)\n",
        "print(sorted)"
      ],
      "execution_count": null,
      "outputs": [
        {
          "output_type": "stream",
          "text": [
            "[153, 29, 4, 10, 27, 189]\n",
            "[4, 10, 27, 29, 153, 189]\n"
          ],
          "name": "stdout"
        }
      ]
    },
    {
      "cell_type": "code",
      "metadata": {
        "colab": {
          "base_uri": "https://localhost:8080/"
        },
        "id": "OI6Z9Zgwx8qN",
        "outputId": "bd75b589-e862-41d8-feb8-428b44b8553d"
      },
      "source": [
        "def create_stack():\n",
        "  stack = []\n",
        "  return stack\n",
        "\n",
        "def push(stack,data):\n",
        "  stack.append(data)\n",
        "  return stack\n",
        "\n",
        "def pop(stack):\n",
        "  if isempty(stack):\n",
        "    print('Stack is empty!')\n",
        "    return\n",
        "  if isfull(stack):\n",
        "    return stack.pop()\n",
        "\n",
        "def peek(stack):\n",
        "  if isempty(stack):\n",
        "    print('Stack is empty!')\n",
        "    return\n",
        "  if isfull(stack):\n",
        "    return stack[-1]\n",
        "\n",
        "def isempty(stack):\n",
        "  if len(stack) is 0: return True\n",
        "  else: return False\n",
        "\n",
        "def isfull(stack):\n",
        "  if len(stack)>0: return True\n",
        "  else: return False\n",
        "\n",
        "stack = create_stack()\n",
        "print('Stack before any operation:',stack)\n",
        "push(stack,1)\n",
        "push(stack,4)\n",
        "push(stack,9)\n",
        "push(stack,21)\n",
        "push(stack,29) \n",
        "push(stack,53)                                   #pushing\n",
        "print('Stack after push operation:',stack)\n",
        "pop(stack)                                          #popping\n",
        "print('Stack after pop operation:',stack)\n",
        "print('Top element without removing:',peek(stack))    #peeking"
      ],
      "execution_count": null,
      "outputs": [
        {
          "output_type": "stream",
          "text": [
            "Stack before any operation: []\n",
            "Stack after push operation: [1, 4, 9, 21, 29, 53]\n",
            "Stack after pop operation: [1, 4, 9, 21, 29]\n",
            "Top element without removing: 29\n"
          ],
          "name": "stdout"
        }
      ]
    },
    {
      "cell_type": "code",
      "metadata": {
        "colab": {
          "base_uri": "https://localhost:8080/"
        },
        "id": "9Acj_6Tj9LHS",
        "outputId": "ae9a943a-dece-4846-d1a2-d986f13b3382"
      },
      "source": [
        "class dynamic_array:\n",
        "\n",
        "  def __init__(self):\n",
        "    self.stack = []\n",
        "    return\n",
        "\n",
        "  def isempty(self):\n",
        "    return len(self.stack)==0\n",
        "\n",
        "  def push(self,data):\n",
        "    self.stack.append(data)\n",
        "    return stack\n",
        "\n",
        "  def pop(self):\n",
        "    if self.isempty():                       \n",
        "      print('Stack Underflow!')\n",
        "      return\n",
        "    else:\n",
        "      return self.stack.pop()\n",
        "  \n",
        "  def peek(self):\n",
        "    if self.isempty():                       \n",
        "      print('Stack Underflow!')\n",
        "      return\n",
        "    else:\n",
        "      return self.stack[-1]\n",
        "\n",
        "  def display(self):\n",
        "    return self.stack\n",
        "\n",
        "stack = dynamic_array()\n",
        "print('Stack before any operation:',stack.display())\n",
        "n = int(input('Enter the number of elements to be input:'))\n",
        "print('Enter the elements:')\n",
        "for i in range(n):\n",
        "  data = int(input())\n",
        "  stack.push(data)\n",
        "print('Stack after push operation:',stack.display())\n",
        "stack.pop()\n",
        "print('Stack after pop operation:',stack.display())\n",
        "print('Top element:',stack.peek())"
      ],
      "execution_count": null,
      "outputs": [
        {
          "output_type": "stream",
          "text": [
            "Stack before any operation: []\n",
            "Enter the number of elements to be input:2\n",
            "Enter the elements:\n",
            "3 \n",
            "4\n",
            "Stack after push operation: [3, 4]\n",
            "Stack after pop operation: [3]\n",
            "Top element: 3\n"
          ],
          "name": "stdout"
        }
      ]
    },
    {
      "cell_type": "code",
      "metadata": {
        "colab": {
          "base_uri": "https://localhost:8080/"
        },
        "id": "gJSXL2R0_2-u",
        "outputId": "3325c9c4-8083-4728-c838-64ec289dfc96"
      },
      "source": [
        "class Node:\n",
        "  def __init__(self,data):\n",
        "    self.data = data\n",
        "    self.next = None\n",
        "\n",
        "class linked_list_stack:\n",
        "  def __init__(self):\n",
        "    self.head = None\n",
        "  \n",
        "  def isnull(self):\n",
        "    if self.head is None:return True\n",
        "    else:return False\n",
        "\n",
        "  def isfull(self):\n",
        "    if self.head is not None:return True\n",
        "    else:return False  \n",
        "\n",
        "  def push(self,new_data):\n",
        "    if self.isnull():self.head = Node(new_data)\n",
        "    if self.isfull():\n",
        "      new_node = Node(new_data)\n",
        "      new_node.next = self.head\n",
        "      self.head = new_node\n",
        "    \n",
        "  def pop(self):\n",
        "    if self.isnull():return None\n",
        "    if self.isfull():\n",
        "      popped_node = self.head\n",
        "      self.head = self.head.next\n",
        "      popped_node.next = None\n",
        "      return popped_node.data\n",
        "\n",
        "  def peek(self):\n",
        "    if self.isnull():return None\n",
        "    if self.isfull():return self.head.data\n",
        "\n",
        "  def display(self):\n",
        "    if self.isnull():\n",
        "      print('Stack Underflow!')\n",
        "    else:\n",
        "      n = self.head\n",
        "      while n.next is not None:\n",
        "        print(n.data,end = '->')\n",
        "        n = n.next\n",
        "      print(None)\n",
        "      return\n",
        "    \n",
        "stack = linked_list_stack()\n",
        "print('Stack before operations:',end = '')\n",
        "stack.display()\n",
        "stack.push(4)\n",
        "stack.push(21)\n",
        "stack.push(29)\n",
        "stack.push(53)\n",
        "stack.push(60)\n",
        "print('Stack after push operation:',end = '')\n",
        "stack.display()\n",
        "print('Top element:',stack.peek()) \n",
        "stack.pop()\n",
        "print('Stack after pop operation:',end = '')\n",
        "stack.display()\n",
        "print('Top element:',stack.peek())"
      ],
      "execution_count": null,
      "outputs": [
        {
          "output_type": "stream",
          "text": [
            "Stack before operations:Stack Underflow!\n",
            "Stack after push operation:60->53->29->21->4->None\n",
            "Top element: 60\n",
            "Stack after pop operation:53->29->21->4->None\n",
            "Top element: 53\n"
          ],
          "name": "stdout"
        }
      ]
    },
    {
      "cell_type": "code",
      "metadata": {
        "id": "7A63dFjvYkWl",
        "colab": {
          "base_uri": "https://localhost:8080/"
        },
        "outputId": "c2656b5c-1075-4a6a-fcae-f0c08f8481f8"
      },
      "source": [
        "# Python program to\n",
        "# demonstrate queue implementation\n",
        "# using list\n",
        " \n",
        "# Initializing a queue\n",
        "queue = []\n",
        " \n",
        "# Adding elements to the queue\n",
        "queue.append('a')\n",
        "queue.append('b')\n",
        "queue.append('c')\n",
        " \n",
        "print(\"Initial queue\")\n",
        "print(queue)\n",
        " \n",
        "# Removing elements from the queue\n",
        "print(\"\\nElements dequeued from queue\")\n",
        "print(queue.pop(0))\n",
        "print(queue.pop(0))\n",
        "print(queue.pop(0))\n",
        " \n",
        "print(\"\\nQueue after removing elements\")\n",
        "print(queue)\n",
        " \n",
        "# Uncommenting print(queue.pop(0))\n",
        "# will raise and IndexError\n",
        "# as the queue is now empty"
      ],
      "execution_count": null,
      "outputs": [
        {
          "output_type": "stream",
          "text": [
            "Initial queue\n",
            "['a', 'b', 'c']\n",
            "\n",
            "Elements dequeued from queue\n",
            "a\n",
            "b\n",
            "c\n",
            "\n",
            "Queue after removing elements\n",
            "[]\n"
          ],
          "name": "stdout"
        }
      ]
    },
    {
      "cell_type": "code",
      "metadata": {
        "colab": {
          "base_uri": "https://localhost:8080/"
        },
        "id": "eepqza2-_Vh9",
        "outputId": "03639716-4e10-4307-f2a2-ec4c81d0dd29"
      },
      "source": [
        "#queues using dynamic arrays\n",
        "\n",
        "class queue(object):\n",
        "  def __init__(self,limit=0):\n",
        "    self.que = limit*[None]\n",
        "    self.limit = limit \n",
        "  def isEmpty(self):\n",
        "    return len(self.que)<= 0\n",
        "  def enqueue(self,item):\n",
        "    if len(self.que)>=self.limit:\n",
        "      self.resize()\n",
        "    self.que.append(item) \n",
        "    print ('quueue after enque',self.que)\n",
        "  def dequeue(self):\n",
        "    if len(self.que)<=0:\n",
        "      print(\"queue underflow\")\n",
        "      return 0 \n",
        "    else:\n",
        "      return self.que.pop(0)\n",
        "  def peek(self):\n",
        "    if len(self.que)<=0:\n",
        "      print(\"queue underflow \")\n",
        "      return 0\n",
        "    else:\n",
        "      return self.que[-1]\n",
        "  def size(self):\n",
        "    return len(self.que)\n",
        "  def resize(self):\n",
        "    newque = list(self.que)\n",
        "    self.limit = 2*self.limit\n",
        "    self.que = newque\n",
        "\n",
        "q = queue(0)\n",
        "q.enqueue(\"23\")\n",
        "q.enqueue(\"2\")\n",
        "q.enqueue(\"253\")\n",
        "q.enqueue(\"234\")\n",
        "q.enqueue(\"235\")\n",
        "q.enqueue(\"256\")\n",
        "q.enqueue(\"2399\")\n",
        "q.enqueue(\"231\")\n",
        "q.enqueue(\"203\")\n",
        "print(q.peek())\n",
        "print(q.dequeue())\n",
        "print(q.peek())\n",
        "print(q.dequeue())\n",
        "print(q.peek())\n",
        "print(q.dequeue())"
      ],
      "execution_count": null,
      "outputs": [
        {
          "output_type": "stream",
          "text": [
            "quueue after enque ['23']\n",
            "quueue after enque ['23', '2']\n",
            "quueue after enque ['23', '2', '253']\n",
            "quueue after enque ['23', '2', '253', '234']\n",
            "quueue after enque ['23', '2', '253', '234', '235']\n",
            "quueue after enque ['23', '2', '253', '234', '235', '256']\n",
            "quueue after enque ['23', '2', '253', '234', '235', '256', '2399']\n",
            "quueue after enque ['23', '2', '253', '234', '235', '256', '2399', '231']\n",
            "quueue after enque ['23', '2', '253', '234', '235', '256', '2399', '231', '203']\n",
            "203\n",
            "23\n",
            "203\n",
            "2\n",
            "203\n",
            "253\n"
          ],
          "name": "stdout"
        }
      ]
    },
    {
      "cell_type": "code",
      "metadata": {
        "colab": {
          "base_uri": "https://localhost:8080/"
        },
        "id": "SXMvqaL3_mpu",
        "outputId": "c48be33d-9687-440d-b6fc-4287e22f3994"
      },
      "source": [
        "#queues using circular arrays\n",
        "\n",
        "class MyCircularQueue():\n",
        "\n",
        "    def __init__(self, k):\n",
        "        self.k = k\n",
        "        self.queue = [None] * k\n",
        "        self.head = self.tail = -1\n",
        "\n",
        "    # Insert an element into the circular queue\n",
        "    def enqueue(self, data):\n",
        "\n",
        "        if ((self.tail + 1) % self.k == self.head):\n",
        "            print(\"The circular queue is full\\n\")\n",
        "\n",
        "        elif (self.head == -1):\n",
        "            self.head = 0\n",
        "            self.tail = 0\n",
        "            self.queue[self.tail] = data\n",
        "        else:\n",
        "            self.tail = (self.tail + 1) % self.k\n",
        "            self.queue[self.tail] = data\n",
        "\n",
        "    # Delete an element from the circular queue\n",
        "    def dequeue(self):\n",
        "        if (self.head == -1):\n",
        "            print(\"The circular queue is empty\\n\")\n",
        "\n",
        "        elif (self.head == self.tail):\n",
        "            temp = self.queue[self.head]\n",
        "            self.head = -1\n",
        "            self.tail = -1\n",
        "            return temp\n",
        "        else:\n",
        "            temp = self.queue[self.head]\n",
        "            self.head = (self.head + 1) % self.k\n",
        "            return temp\n",
        "\n",
        "    def printCQueue(self):\n",
        "        if(self.head == -1):\n",
        "            print(\"No element in the circular queue\")\n",
        "\n",
        "        elif (self.tail >= self.head):\n",
        "            for i in range(self.head, self.tail + 1):\n",
        "                print(self.queue[i], end=\" \")\n",
        "            print()\n",
        "        else:\n",
        "            for i in range(self.head, self.k):\n",
        "                print(self.queue[i], end=\" \")\n",
        "            for i in range(0, self.tail + 1):\n",
        "                print(self.queue[i], end=\" \")\n",
        "            print()\n",
        "\n",
        "\n",
        "# Your MyCircularQueue object will be instantiated and called as such:\n",
        "obj = MyCircularQueue(5)\n",
        "obj.enqueue(1)\n",
        "obj.enqueue(2)\n",
        "obj.enqueue(3)\n",
        "obj.enqueue(4)\n",
        "obj.enqueue(5)\n",
        "print(\"Initial queue\")\n",
        "obj.printCQueue()\n",
        "\n",
        "obj.dequeue()\n",
        "print(\"After removing an element from the queue\")\n",
        "obj.printCQueue()"
      ],
      "execution_count": null,
      "outputs": [
        {
          "output_type": "stream",
          "text": [
            "Initial queue\n",
            "1 2 3 4 5 \n",
            "After removing an element from the queue\n",
            "2 3 4 5 \n"
          ],
          "name": "stdout"
        }
      ]
    },
    {
      "cell_type": "code",
      "metadata": {
        "colab": {
          "base_uri": "https://localhost:8080/"
        },
        "id": "Fxhw0IZQ_xVn",
        "outputId": "e977268e-62b2-450c-c0a5-b5eeebe33ed5"
      },
      "source": [
        "#queues using linked list\n",
        "\n",
        "class Node:\n",
        "     \n",
        "   \n",
        "    def __init__(self,data):\n",
        "        self.data = data\n",
        "        self.next = None\n",
        "     \n",
        "class Stack:\n",
        "     \n",
        "    \n",
        "    def __init__(self):\n",
        "        self.head = None\n",
        "     \n",
        "    \n",
        "    def isempty(self):\n",
        "        if self.head == None:\n",
        "            return True\n",
        "        else:\n",
        "            return False\n",
        "     \n",
        "    \n",
        "    def push(self,data):\n",
        "         \n",
        "        if self.head == None:\n",
        "            self.head=Node(data)\n",
        "             \n",
        "        else:\n",
        "            newnode = Node(data)\n",
        "            newnode.next = self.head\n",
        "            self.head = newnode\n",
        "     \n",
        "    \n",
        "    def pop(self):\n",
        "         \n",
        "        if self.isempty():\n",
        "            return None\n",
        "             \n",
        "        else:\n",
        "            \n",
        "            poppednode = self.head\n",
        "            self.head = self.head.next\n",
        "            poppednode.next = None\n",
        "            return poppednode.data\n",
        "     \n",
        "    # Returns the head node data\n",
        "    def peek(self):\n",
        "         \n",
        "        if self.isempty():\n",
        "            return None\n",
        "             \n",
        "        else:\n",
        "            return self.head.data\n",
        "     \n",
        "      \n",
        "    def display(self):\n",
        "         \n",
        "        iternode = self.head\n",
        "        if self.isempty():\n",
        "            print(\"Stack Underflow\")\n",
        "         \n",
        "        else:\n",
        "             \n",
        "            while(iternode != None):\n",
        "                 \n",
        "                print(iternode.data,\",\",end = \" \")\n",
        "                iternode = iternode.next\n",
        "            return\n",
        "         \n",
        "# Driver code\n",
        "MyStack = Stack()\n",
        " \n",
        "MyStack.push(1)\n",
        "MyStack.push(2)\n",
        "MyStack.push(3)\n",
        "MyStack.push(4)\n",
        " \n",
        "\n",
        "MyStack.display()\n",
        " \n",
        "\n",
        "print(\"\\nTop element is \",MyStack.peek())\n",
        " \n",
        "\n",
        "MyStack.pop()\n",
        "MyStack.pop()\n",
        " \n",
        "# Display stack elements\n",
        "MyStack.display()\n",
        " \n",
        "# Print top element of stack\n",
        "print(\"\\nTop element is \", MyStack.peek())"
      ],
      "execution_count": null,
      "outputs": [
        {
          "output_type": "stream",
          "text": [
            "4 , 3 , 2 , 1 , \n",
            "Top element is  4\n",
            "2 , 1 , \n",
            "Top element is  2\n"
          ],
          "name": "stdout"
        }
      ]
    },
    {
      "cell_type": "code",
      "metadata": {
        "colab": {
          "base_uri": "https://localhost:8080/"
        },
        "id": "HBw9fJkUDQL0",
        "outputId": "ea69f57a-2b60-43d8-e3f7-05dce68b4829"
      },
      "source": [
        "#Python program to for tree traversals\n",
        " \n",
        "# A class that represents an individual node in a\n",
        "# Binary Tree\n",
        " \n",
        " \n",
        "\n",
        "class Node:\n",
        "\n",
        "    def __init__(self, key):\n",
        "\n",
        "        self.left = None\n",
        "\n",
        "        self.right = None\n",
        "\n",
        "        self.val = key\n",
        " \n",
        " \n",
        "# A function to do inorder tree traversal\n",
        "\n",
        "def printInorder(root):\n",
        " \n",
        "\n",
        "    if root:\n",
        " \n",
        "\n",
        "        # First recur on left child\n",
        "\n",
        "        printInorder(root.left)\n",
        " \n",
        "\n",
        "        # then print the data of node\n",
        "\n",
        "        print(root.val),\n",
        " \n",
        "\n",
        "        # now recur on right child\n",
        "\n",
        "        printInorder(root.right)\n",
        " \n",
        " \n",
        "# A function to do postorder tree traversal\n",
        "\n",
        "def printPostorder(root):\n",
        " \n",
        "\n",
        "    if root:\n",
        " \n",
        "\n",
        "        # First recur on left child\n",
        "\n",
        "        printPostorder(root.left)\n",
        " \n",
        "\n",
        "        # the recur on right child\n",
        "\n",
        "        printPostorder(root.right)\n",
        " \n",
        "\n",
        "        # now print the data of node\n",
        "\n",
        "        print(root.val),\n",
        " \n",
        " \n",
        "# A function to do preorder tree traversal\n",
        "\n",
        "def printPreorder(root):\n",
        " \n",
        "\n",
        "    if root:\n",
        " \n",
        "\n",
        "        # First print the data of node\n",
        "\n",
        "        print(root.val),\n",
        " \n",
        "\n",
        "        # Then recur on left child\n",
        "\n",
        "        printPreorder(root.left)\n",
        " \n",
        "\n",
        "        # Finally recur on right child\n",
        "\n",
        "        printPreorder(root.right)\n",
        " \n",
        " \n",
        "# Driver code\n",
        "\n",
        "root = Node(1)\n",
        "\n",
        "root.left = Node(2)\n",
        "\n",
        "root.right = Node(3)\n",
        "\n",
        "root.left.left = Node(4)\n",
        "\n",
        "root.left.right = Node(5)\n",
        "\n",
        "print(\"Preorder traversal of binary tree is\")\n",
        "printPreorder(root)\n",
        " \n",
        "\n",
        "print(\"\\nInorder traversal of binary tree is\")\n",
        "printInorder(root)\n",
        " \n",
        "\n",
        "print(\"\\nPostorder traversal of binary tree is\")\n",
        "printPostorder(root)"
      ],
      "execution_count": null,
      "outputs": [
        {
          "output_type": "stream",
          "text": [
            "Preorder traversal of binary tree is\n",
            "1\n",
            "2\n",
            "4\n",
            "5\n",
            "3\n",
            "\n",
            "Inorder traversal of binary tree is\n",
            "4\n",
            "2\n",
            "5\n",
            "1\n",
            "3\n",
            "\n",
            "Postorder traversal of binary tree is\n",
            "4\n",
            "5\n",
            "2\n",
            "3\n",
            "1\n"
          ],
          "name": "stdout"
        }
      ]
    },
    {
      "cell_type": "code",
      "metadata": {
        "colab": {
          "base_uri": "https://localhost:8080/"
        },
        "id": "RjBJrvjpBoUe",
        "outputId": "3160f620-5e06-425e-ac42-68b3f526a5dd"
      },
      "source": [
        "#29. WAP to implement Binary tree traversal techniques. (In Order,Pre Order,Post order)\n",
        "class node():\n",
        "  def __init__(self,data):\n",
        "    self.data=data\n",
        "    self.left=None\n",
        "    self.right=None\n",
        "def pre_order(root):\n",
        "  if root:\n",
        "    print(root.data,end=\"-\")\n",
        "    pre_order(root.left)\n",
        "    pre_order(root.right)\n",
        "def post_order(root):\n",
        "  if root:\n",
        "    post_order(root.left)\n",
        "    post_order(root.right)\n",
        "    print(root.data,end=\"-\")\n",
        "def infix_order(root):\n",
        "  if root:\n",
        "    infix_order(root.left)\n",
        "    print(root.data,end=\"-\")\n",
        "    infix_order(root.right)\n",
        "\n",
        "\n",
        "\n",
        "\n",
        "root=node(1)\n",
        "root.left=node(2)\n",
        "root.right=node(3)\n",
        "root.left.left=node(4)\n",
        "root.left.right=node(5)\n",
        "root.right.left=node(6)\n",
        "root.right.right=node(7)\n",
        "print(\" the pre order of the binary search tree is: \")\n",
        "pre_order(root)\n",
        "print(\"\\n\")\n",
        "print(\" the post order of the binary search tree is:\")\n",
        "post_order(root)\n",
        "print(\"\\n\")\n",
        "print(\" the infix order of the binary search tree is:\")\n",
        "infix_order(root)\n",
        "print(\"\\n\")"
      ],
      "execution_count": null,
      "outputs": [
        {
          "output_type": "stream",
          "text": [
            " the pre order of the binary search tree is: \n",
            "1-2-4-5-3-6-7-\n",
            "\n",
            " the post order of the binary search tree is:\n",
            "4-5-2-6-7-3-1-\n",
            "\n",
            " the infix order of the binary search tree is:\n",
            "4-2-5-1-6-3-7-\n",
            "\n"
          ],
          "name": "stdout"
        }
      ]
    },
    {
      "cell_type": "code",
      "metadata": {
        "colab": {
          "base_uri": "https://localhost:8080/"
        },
        "id": "y-ooXBkEB2Nu",
        "outputId": "3340e6dc-3c98-4040-cf67-4cedd68fa9b3"
      },
      "source": [
        "#binary search tree\n",
        "class Node:\n",
        "\tdef __init__(self, key):\n",
        "\t\tself.key = key\n",
        "\t\tself.left = None\n",
        "\t\tself.right = None\n",
        "def inorder(root):\n",
        "\tif root is not None:\n",
        "\t\tinorder(root.left)\n",
        "\t\tprint (root.key)\n",
        "\t\tinorder(root.right)\n",
        "\n",
        "def insert(node, key):\n",
        "\tif node is None:\n",
        "\t\treturn Node(key)\n",
        "\tif key < node.key:\n",
        "\t\tnode.left = insert(node.left, key)\n",
        "\telse:\n",
        "\t\tnode.right = insert(node.right, key)\n",
        "\treturn node\n",
        "\n",
        "def minValueNode(node):\n",
        "\tcurrent = node\n",
        "\twhile(current.left is not None):\n",
        "\t\tcurrent = current.left\n",
        "\treturn current\n",
        "\n",
        "\n",
        "def delete(root, key):\n",
        "\n",
        "\tif root is None:\n",
        "\t\treturn root\n",
        "\tif key < root.key:\n",
        "\t\troot.left = delete(root.left, key)\n",
        "\telif(key > root.key):\n",
        "\t\troot.right = delete(root.right, key)\n",
        "  #one or no children\n",
        "\telse:\n",
        "\t\tif root.left is None:\n",
        "\t\t\ttemp = root.right\n",
        "\t\t\troot = None\n",
        "\t\t\treturn temp\n",
        "\t\telif root.right is None:\n",
        "\t\t\ttemp = root.left\n",
        "\t\t\troot = None\n",
        "\t\t\treturn temp\n",
        "      #two children\n",
        "\t\ttemp = minValueNode(root.right)\n",
        "\t\troot.key = temp.key\n",
        "\t\troot.right = delete(root.right, temp.key)\n",
        "\n",
        "\treturn root\n",
        "\n",
        "\n",
        "root = None\n",
        "root = insert(root, 50)\n",
        "root = insert(root, 30)\n",
        "root = insert(root, 20)\n",
        "root = insert(root, 40)\n",
        "root = insert(root, 70)\n",
        "root = insert(root, 60)\n",
        "root = insert(root, 80)\n",
        "\n",
        "\n",
        "inorder(root)\n",
        "root = delete(root, 20)\n",
        "print()\n",
        "inorder(root)\n",
        "\n",
        "root = delete(root, 30)\n",
        "print()\n",
        "inorder(root)\n",
        "\n",
        "root = delete(root, 60)\n",
        "print()\n",
        "inorder(root)"
      ],
      "execution_count": null,
      "outputs": [
        {
          "output_type": "stream",
          "text": [
            "20\n",
            "30\n",
            "40\n",
            "50\n",
            "60\n",
            "70\n",
            "80\n",
            "\n",
            "30\n",
            "40\n",
            "50\n",
            "60\n",
            "70\n",
            "80\n",
            "\n",
            "40\n",
            "50\n",
            "60\n",
            "70\n",
            "80\n",
            "\n",
            "40\n",
            "50\n",
            "70\n",
            "80\n"
          ],
          "name": "stdout"
        }
      ]
    },
    {
      "cell_type": "code",
      "metadata": {
        "colab": {
          "base_uri": "https://localhost:8080/"
        },
        "id": "cYF9cNrTKL1D",
        "outputId": "3d884162-9f0c-4ed3-f685-a6fb3d71a409"
      },
      "source": [
        "#heap sort\n",
        "def heapify(arr, n, i):\n",
        "    largest = i  # Initialize largest as root\n",
        "    l = 2 * i + 1     # left = 2*i + 1\n",
        "    r = 2 * i + 2     # right = 2*i + 2\n",
        " \n",
        "    # See if left child of root exists and is\n",
        "    # greater than root\n",
        "    if l < n and arr[largest] < arr[l]:\n",
        "        largest = l\n",
        " \n",
        "    # See if right child of root exists and is\n",
        "    # greater than root\n",
        "    if r < n and arr[largest] < arr[r]:\n",
        "        largest = r\n",
        " \n",
        "    # Change root, if needed\n",
        "    if largest != i:\n",
        "        arr[i], arr[largest] = arr[largest], arr[i]  # swap\n",
        " \n",
        "        # Heapify the root.\n",
        "        heapify(arr, n, largest)\n",
        " \n",
        "# The main function to sort an array of given size\n",
        " \n",
        " \n",
        "def heapSort(arr):\n",
        "    n = len(arr)\n",
        " \n",
        "    # Build a maxheap.\n",
        "    for i in range(n//2 - 1, -1, -1):\n",
        "        heapify(arr, n, i)\n",
        " \n",
        "    # One by one extract elements\n",
        "    for i in range(n-1, 0, -1):\n",
        "        arr[i], arr[0] = arr[0], arr[i]  # swap\n",
        "        heapify(arr, i, 0)\n",
        " \n",
        " \n",
        "# Driver code\n",
        "arr = [10, 29, 4, 21, 9, 27]\n",
        "heapSort(arr)\n",
        "n = len(arr)\n",
        "print(\"Sorted array is\")\n",
        "for i in range(n):\n",
        "    print(\"%d\" % arr[i]),"
      ],
      "execution_count": null,
      "outputs": [
        {
          "output_type": "stream",
          "text": [
            "Sorted array is\n",
            "4\n",
            "9\n",
            "10\n",
            "21\n",
            "27\n",
            "29\n"
          ],
          "name": "stdout"
        }
      ]
    },
    {
      "cell_type": "code",
      "metadata": {
        "id": "cNMVC6Nld8gX",
        "colab": {
          "base_uri": "https://localhost:8080/"
        },
        "outputId": "a5762327-54e7-4d70-a14d-50c27d315a2f"
      },
      "source": [
        "# Python3 program to print DFS traversal\n",
        "# from a given given graph\n",
        "from collections import defaultdict\n",
        " \n",
        "# This class represents a directed graph using\n",
        "# adjacency list representation\n",
        " \n",
        " \n",
        "class Graph:\n",
        " \n",
        "    # Constructor\n",
        "    def __init__(self):\n",
        " \n",
        "        # default dictionary to store graph\n",
        "        self.graph = defaultdict(list)\n",
        " \n",
        "    # function to add an edge to graph\n",
        "    def addEdge(self, u, v):\n",
        "        self.graph[u].append(v)\n",
        " \n",
        "    # A function used by DFS\n",
        "    def DFSUtil(self, v, visited):\n",
        " \n",
        "        # Mark the current node as visited\n",
        "        # and print it\n",
        "        visited.add(v)\n",
        "        print(v, end=' ')\n",
        " \n",
        "        # Recur for all the vertices\n",
        "        # adjacent to this vertex\n",
        "        for neighbour in self.graph[v]:\n",
        "            if neighbour not in visited:\n",
        "                self.DFSUtil(neighbour, visited)\n",
        " \n",
        "    # The function to do DFS traversal. It uses\n",
        "    # recursive DFSUtil()\n",
        "    def DFS(self, v):\n",
        " \n",
        "        # Create a set to store visited vertices\n",
        "        visited = set()\n",
        " \n",
        "        # Call the recursive helper function\n",
        "        # to print DFS traversal\n",
        "        self.DFSUtil(v, visited)\n",
        " \n",
        "# Driver code\n",
        " \n",
        " \n",
        "# Create a graph given\n",
        "# in the above diagram\n",
        "g = Graph()\n",
        "g.addEdge(0, 1)\n",
        "g.addEdge(0, 2)\n",
        "g.addEdge(1, 2)\n",
        "g.addEdge(2, 0)\n",
        "g.addEdge(2, 3)\n",
        "g.addEdge(3, 3)\n",
        " \n",
        "print(\"Following is DFS from (starting from vertex 2)\")\n",
        "g.DFS(2)"
      ],
      "execution_count": null,
      "outputs": [
        {
          "output_type": "stream",
          "text": [
            "Following is DFS from (starting from vertex 2)\n",
            "2 0 1 3 "
          ],
          "name": "stdout"
        }
      ]
    },
    {
      "cell_type": "code",
      "metadata": {
        "colab": {
          "base_uri": "https://localhost:8080/"
        },
        "id": "GNTAkg1lQzqq",
        "outputId": "bc8d9062-b60a-4fe6-bdbb-8e2b4233769f"
      },
      "source": [
        "# Python3 Program to print BFS traversal\n",
        "from collections import defaultdict\n",
        " \n",
        "class Graph:\n",
        " \n",
        "    # Constructor\n",
        "    def __init__(self):\n",
        " \n",
        "        # default dictionary to store graph\n",
        "        self.graph = defaultdict(list)\n",
        " \n",
        "    # function to add an edge to graph\n",
        "    def addEdge(self,u,v):\n",
        "        self.graph[u].append(v)\n",
        " \n",
        "    # Function to print a BFS of graph\n",
        "    def BFS(self, s):\n",
        " \n",
        "        # Mark all the vertices as not visited\n",
        "        visited = [False] * (max(self.graph) + 1)\n",
        " \n",
        "        # Create a queue for BFS\n",
        "        queue = []\n",
        " \n",
        "        # Mark the source node as\n",
        "        # visited and enqueue it\n",
        "        queue.append(s)\n",
        "        visited[s] = True\n",
        " \n",
        "        while queue:\n",
        " \n",
        "            # Dequeue a vertex from\n",
        "            # queue and print it\n",
        "            s = queue.pop(0)\n",
        "            print (s, end = \" \")\n",
        " \n",
        "           \n",
        "            for i in self.graph[s]:\n",
        "                if visited[i] == False:\n",
        "                    queue.append(i)\n",
        "                    visited[i] = True\n",
        " \n",
        "# Driver code\n",
        " \n",
        "# Create a graph given in\n",
        "# the above diagram\n",
        "g = Graph()\n",
        "g.addEdge(0, 1)\n",
        "g.addEdge(0, 2)\n",
        "g.addEdge(1, 2)\n",
        "g.addEdge(2, 0)\n",
        "g.addEdge(2, 3)\n",
        "g.addEdge(3, 3)\n",
        " \n",
        "print (\"Following is Breadth First Traversal\"\n",
        "                  \" (starting from vertex 2)\")\n",
        "g.BFS(2)"
      ],
      "execution_count": null,
      "outputs": [
        {
          "output_type": "stream",
          "text": [
            "Following is Breadth First Traversal (starting from vertex 2)\n",
            "2 0 3 1 "
          ],
          "name": "stdout"
        }
      ]
    },
    {
      "cell_type": "code",
      "metadata": {
        "colab": {
          "base_uri": "https://localhost:8080/"
        },
        "id": "TEgBvyK2iUM2",
        "outputId": "55934921-d462-49ef-9714-cc7249dcf739"
      },
      "source": [
        "def hash_key( key, m):\n",
        "    return key % m\n",
        "\n",
        "\n",
        "m = 7\n",
        "\n",
        "print(f'The hash value for 3 is {hash_key(3,m)}')\n",
        "print(f'The hash value for 2 is {hash_key(2,m)}')\n",
        "print(f'The hash value for 9 is {hash_key(9,m)}')\n",
        "print(f'The hash value for 11 is {hash_key(11,m)}')\n",
        "print(f'The hash value for 7 is {hash_key(7,m)}')"
      ],
      "execution_count": null,
      "outputs": [
        {
          "output_type": "stream",
          "text": [
            "The hash value for 3 is 3\n",
            "The hash value for 2 is 2\n",
            "The hash value for 9 is 2\n",
            "The hash value for 11 is 4\n",
            "The hash value for 7 is 0\n"
          ],
          "name": "stdout"
        }
      ]
    },
    {
      "cell_type": "code",
      "metadata": {
        "colab": {
          "base_uri": "https://localhost:8080/"
        },
        "id": "j8D_rLg5iZAJ",
        "outputId": "5998cf83-fd9e-4400-9467-b3bc3b702b6e"
      },
      "source": [
        "hash_table = [[] for _ in range(10)]\n",
        "print (hash_table)\n",
        "\n",
        "def hashing_func(key):\n",
        "\treturn key % len(hash_table)\n",
        "\n",
        "print (hashing_func(10)) \n",
        "print (hashing_func(20)) \n",
        "print (hashing_func(25))\n",
        "\n",
        "def insert(hash_table, key, value):\n",
        "\thash_key = hashing_func(key)\n",
        "\thash_table[hash_key].append(value)\n",
        "\n",
        "insert(hash_table, 10, 'Nepal')\n",
        "print (hash_table)\n",
        "\n",
        "insert(hash_table, 25, 'USA')\n",
        "print (hash_table)\n",
        "\n",
        "insert(hash_table, 20, 'India')\n",
        "print (hash_table)"
      ],
      "execution_count": null,
      "outputs": [
        {
          "output_type": "stream",
          "text": [
            "[[], [], [], [], [], [], [], [], [], []]\n",
            "0\n",
            "0\n",
            "5\n",
            "[['Nepal'], [], [], [], [], [], [], [], [], []]\n",
            "[['Nepal'], [], [], [], [], ['USA'], [], [], [], []]\n",
            "[['Nepal', 'India'], [], [], [], [], ['USA'], [], [], [], []]\n"
          ],
          "name": "stdout"
        }
      ]
    }
  ]
}